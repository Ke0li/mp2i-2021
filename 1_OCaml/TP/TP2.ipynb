{
 "cells": [
  {
   "cell_type": "markdown",
   "id": "0b8602ac",
   "metadata": {},
   "source": [
    "# TP 2 : récursivité et conditions\n",
    "\n",
    "Dans tout le TP, il est interdit d'utiliser des boucles (pas de `for` ni `while`).\n",
    "\n",
    "Rappel : pensez à tester toutes vos fonctions sur des exemples."
   ]
  },
  {
   "cell_type": "markdown",
   "id": "483ccb0b",
   "metadata": {
    "tags": []
   },
   "source": [
    "## Petites questions\n",
    "\n",
    "1. Définir une fonction `divise` telle que `divise a b` renvoie `true` si  `a` divise `b`, `false` sinon. Il est interdit d'utiliser `if`.\n",
    "2. Définir une fonction récursive `somme` telle que `somme n` renvoie $\\sum_{k=1}^n k^2$.\n",
    "3. Définir une fonction récursive `u` telle que `u n` renvoie $u_n$ définie par :\n",
    "$$u_0 = 42$$\n",
    "$$u_{n} = 3\\sqrt{u_{n - 1}} + 2$$\n",
    "4. Définir une fonction récursive `v` telle que `v a n` renvoie $v_n$ définie par (on fera attention à n'utiliser qu'un appel récursif) :\n",
    "$$v_0 = a$$\n",
    "$$v_{n + 1} = \\frac{1}{2}(v_n + \\frac{a}{v_n})$$\n",
    "5. Calculer `v a n` pour plusieurs valeurs de `a` et de `n` : que peut-on conjecturer sur la limite de $v_n$ ? Optionnel : le démontrer.  \n",
    "6. Soient $a$ et $b$ deux entiers et $q, r$ le quotient et reste de la division euclidienne de $a$ par $b$ ($a = bq + r$). En utilisant le fait que $PGCD(a, b)$ = $PGCD(b, r)$, écrire une fonction `euclide` telle que `euclide a b` renvoie le PGCD de $a$ et $b$."
   ]
  },
  {
   "cell_type": "code",
   "execution_count": 1,
   "id": "ff7c864f-dc2a-4a31-aa88-ce8f189d502c",
   "metadata": {},
   "outputs": [
    {
     "data": {
      "text/plain": [
       "- : bool = true\n"
      ]
     },
     "execution_count": 1,
     "metadata": {},
     "output_type": "execute_result"
    }
   ],
   "source": [
    "let rec divise a b =\n",
    "    b mod a = 0  in\n",
    "\n",
    "\n",
    "    \n",
    "    \n",
    "divise 2 12"
   ]
  },
  {
   "cell_type": "code",
   "execution_count": 2,
   "id": "1d91f744-a365-43a5-8ed6-bd43c2933942",
   "metadata": {},
   "outputs": [
    {
     "data": {
      "text/plain": [
       "- : int = 55\n"
      ]
     },
     "execution_count": 2,
     "metadata": {},
     "output_type": "execute_result"
    }
   ],
   "source": [
    "let rec somme n =\n",
    "    if n=0 then 0\n",
    "    else n*n + somme(n-1) in\n",
    "\n",
    "somme 5"
   ]
  },
  {
   "cell_type": "code",
   "execution_count": 3,
   "id": "eafb14f8-c921-4c1e-bc37-18bbebfd37dc",
   "metadata": {},
   "outputs": [
    {
     "data": {
      "text/plain": [
       "- : float = 12.9031140348139637\n"
      ]
     },
     "execution_count": 3,
     "metadata": {},
     "output_type": "execute_result"
    }
   ],
   "source": [
    "let rec u n =\n",
    "    if n = 0. then 42.\n",
    "    else 3.*.sqrt(u(n-.1.)) +. 2.  in\n",
    "    \n",
    "u 5.\n"
   ]
  },
  {
   "cell_type": "code",
   "execution_count": 4,
   "id": "eab7fb60-9e18-445e-a90c-e275086f6dd7",
   "metadata": {},
   "outputs": [
    {
     "ename": "error",
     "evalue": "compile_error",
     "output_type": "error",
     "traceback": [
      "File \"[4]\", line 7, characters 0-0:\nError: Syntax error\n"
     ]
    }
   ],
   "source": [
    "let rec v a n =\n",
    "    let b = v a (n-1) in\n",
    "     if n-1 = 0 then a\n",
    "     else (1/2) * (b+a /b) in\n",
    "\n"
   ]
  },
  {
   "cell_type": "code",
   "execution_count": 5,
   "id": "6571ff2d-a8c9-4084-a97a-a7cc7ed6883b",
   "metadata": {},
   "outputs": [
    {
     "data": {
      "text/plain": [
       "- : int = 5\n"
      ]
     },
     "execution_count": 5,
     "metadata": {},
     "output_type": "execute_result"
    }
   ],
   "source": [
    "let rec euclide a b =\n",
    "    if b = 0 then a\n",
    "    else let r = a mod b in\n",
    "        euclide b r in\n",
    "euclide 15 10"
   ]
  },
  {
   "cell_type": "code",
   "execution_count": null,
   "id": "9376bfec-5f76-4333-b92d-5c24d6f8fb79",
   "metadata": {},
   "outputs": [],
   "source": []
  },
  {
   "cell_type": "markdown",
   "id": "f9323ab0",
   "metadata": {
    "tags": []
   },
   "source": [
    "## Exponentiation rapide\n",
    "\n",
    "1. Écrire une fonction récursive `puissance` naïve (c'est à dire très simple) telle que `puissance a n` renvoie $a^n$. Combien effectue t-elle de multiplications (en fonction de n) ?\n",
    "2. Écrire une fonction récursive `exp_rapide` pour calculer $a^n$, en utilisant les relations suivantes :\n",
    "$$ \n",
    "\\begin{cases} \n",
    "a^n = (a^{\\frac{n}{2}})^2 ~~~~~~~~~\\text{si }n\\text{ est pair}\\\\\n",
    "a^{n} = a \\times (a^{\\frac{n-1}{2}})^2 ~~~~~\\text{sinon}\n",
    "\\end{cases}\n",
    "$$\n",
    "**Attention** : pour mettre au carré, utiliser une variable plutôt que faire 2 appels récursifs, ce qui augmenterait beaucoup le nombre d'opérations.  \n",
    "**Remarque** : On montrera plus tard que cette 2ème version demande de l'ordre de $\\ln(n)$ multiplications seulement."
   ]
  },
  {
   "cell_type": "code",
   "execution_count": 10,
   "id": "417c3363-a4a9-47bd-872a-648edfc167ef",
   "metadata": {},
   "outputs": [
    {
     "data": {
      "text/plain": [
       "- : int = 4\n"
      ]
     },
     "execution_count": 10,
     "metadata": {},
     "output_type": "execute_result"
    }
   ],
   "source": [
    "let rec puissance a n =\n",
    "    if n=0 then 1\n",
    "    else a * puissance a (n-1) in\n",
    "puissance 2 2\n"
   ]
  },
  {
   "cell_type": "code",
   "execution_count": 11,
   "id": "a78475cf-6637-43c4-82b5-b95e097f5465",
   "metadata": {},
   "outputs": [
    {
     "ename": "error",
     "evalue": "compile_error",
     "output_type": "error",
     "traceback": [
      "File \"[11]\", line 2, characters 27-36:\n2 |     if n mod 2=0 then a * (puissance a (n/2)) * (puissance a (n/2))\n                               ^^^^^^^^^\nError: Unbound value puissance\n"
     ]
    }
   ],
   "source": [
    "let rec exp_rapide a n =\n",
    "    if n mod 2=0 then a * (puissance a (n/2)) * (puissance a (n/2))\n",
    "    else a * (puissance a ((n-1)/2)) * (puissance a ((n-1)/2)) in\n",
    "exp_rapide 2 2\n"
   ]
  },
  {
   "cell_type": "markdown",
   "id": "1dba41b0",
   "metadata": {
    "tags": []
   },
   "source": [
    "# Accumulateur\n",
    "\n",
    "On a vu dans le cours sur la récursivité (avec l'exemple de la suite de Fibonacci) qu'un accumulateur est un argument que l'on ajoute à une fonction pour calculer sa valeur de retour.  \n",
    "1. Écrire une fonction `fact` telle que `fact acc n` renvoie `n`!, en utilisant `acc` comme accumulateur. Voici à quoi va ressemble `fact` :\n",
    "```ocaml\n",
    "let rec fact acc n =\n",
    "    if n = 0 then acc  (* on renvoie l'accumulateur qui contient le résultat *)\n",
    "    else fact ... (* appel récursif en modifiant l'accumulateur *)\n",
    "```\n",
    "2. En utilisant `fact` et l'application partielle de fonction, définir `f : int -> int` renvoyant la factoielle d'un entier.\n",
    "\n",
    "**Remarque** : le but ici est juste de vous entraîner à savoir utiliser un accumulateur, qui sont parfois utiles (comme pour la fonction `fibo` du cours). En DS ou concours on évitera d'utiliser un accumulateur lorsqu'il y en a pas besoin (comme pour la fonction `fact`...), car cela rend le code plus compliqué.  "
   ]
  },
  {
   "cell_type": "code",
   "execution_count": 12,
   "id": "c5943b6c-f496-4182-b559-f59c2721b63e",
   "metadata": {
    "tags": []
   },
   "outputs": [
    {
     "data": {
      "text/plain": [
       "val fact : int -> int -> int = <fun>\n"
      ]
     },
     "execution_count": 12,
     "metadata": {},
     "output_type": "execute_result"
    },
    {
     "data": {
      "text/plain": [
       "- : int = 120\n"
      ]
     },
     "execution_count": 12,
     "metadata": {},
     "output_type": "execute_result"
    }
   ],
   "source": [
    "let rec fact acc n =\n",
    "    if n=0 then acc\n",
    "    else fact 1 (n-1)* n;;\n",
    "fact 1 5"
   ]
  },
  {
   "cell_type": "code",
   "execution_count": 13,
   "id": "de207911-6722-4ab1-8386-3919e38f70fb",
   "metadata": {},
   "outputs": [
    {
     "data": {
      "text/plain": [
       "- : int = 120\n"
      ]
     },
     "execution_count": 13,
     "metadata": {},
     "output_type": "execute_result"
    }
   ],
   "source": [
    "let f n =\n",
    "    fact 1 n in\n",
    "    \n",
    "f 5\n"
   ]
  },
  {
   "cell_type": "markdown",
   "id": "3ce1d3dc",
   "metadata": {},
   "source": [
    "## Temps de vol de la suite de Syracuse\n",
    "\n",
    "La suite de Syracuse d'un entier $a$ est définie par :  \n",
    "$$u_0 = a$$\n",
    "$$u_{n+1} =\n",
    "\\begin{cases} \n",
    "     \\frac{u_n}{2}, \\text{si } u_n \\text{ est pair}\\\\\n",
    "    3u_n + 1, \\text{sinon}\\\\\n",
    "\\end{cases}$$\n",
    "\n",
    "Le temps de vol de $(u_n)_n$ est le plus petit entier $t$ tel que $u_t = 1$.  \n",
    "\n",
    "1. Écrire une fonction récursive `temps_vol` telle que `temps_vol a` renvoie le temps de vol de $(u_n)_n$ (où $u_0 = a$)."
   ]
  },
  {
   "cell_type": "code",
   "execution_count": 14,
   "id": "2278695d-8e71-4910-b1b0-fea74518c1b3",
   "metadata": {},
   "outputs": [
    {
     "ename": "error",
     "evalue": "compile_error",
     "output_type": "error",
     "traceback": [
      "File \"[14]\", line 9, characters 0-0:\nError: Syntax error\n"
     ]
    }
   ],
   "source": [
    "let rec temps_vol a =\n",
    "    let rec syra a n=\n",
    "    if n-1=0 then a \n",
    "    else if n mod 2 =0 then (syra a (n-1))/2\n",
    "         else 3*(syra a (n-1)) +1\n",
    "temps_vol 2\n",
    "syra 2 3\n"
   ]
  },
  {
   "cell_type": "markdown",
   "id": "da47237d",
   "metadata": {},
   "source": [
    "## Fonction mystérieuse\n",
    "\n",
    "Tester la fonction suivante pour des $n$ entre $0$ et $100$, conjecturer un théorème et prouvez-le par récurrence."
   ]
  },
  {
   "cell_type": "code",
   "execution_count": 1,
   "id": "1c7692d4",
   "metadata": {
    "execution": {
     "iopub.execute_input": "2021-09-16T14:04:22.236899Z",
     "iopub.status.busy": "2021-09-16T14:04:22.236336Z",
     "iopub.status.idle": "2021-09-16T14:04:22.239838Z",
     "shell.execute_reply": "2021-09-16T14:04:22.240266Z"
    }
   },
   "outputs": [
    {
     "data": {
      "text/plain": [
       "val f : int -> int = <fun>\n"
      ]
     },
     "execution_count": 1,
     "metadata": {},
     "output_type": "execute_result"
    }
   ],
   "source": [
    "let rec f n =\n",
    "    if n > 100 then n - 10 \n",
    "    else f (f (n + 11)) ;;"
   ]
  },
  {
   "cell_type": "markdown",
   "id": "256f5cdb",
   "metadata": {},
   "source": [
    "## Fonctions mutuellement récursives\n",
    "\n",
    "Il est possible de définir simultanément deux fonctions `f` et `g`, dépendant l'une de l'autre avec `and` :\n",
    "```ocaml\n",
    "let rec f x = ... and g y = ... in ...\n",
    "```\n",
    "\n",
    "Écrire deux fonctions `u` et `v` permettant de calculer le $n$ième terme des suites définies par :\n",
    "$$u_0 = 2$$\n",
    "$$v_0 = 3$$\n",
    "$$u_{n + 1} = u_n - u_n v_n$$\n",
    "$$v_{n + 1} = v_n + u_n v_n$$"
   ]
  },
  {
   "cell_type": "code",
   "execution_count": 17,
   "id": "308daf56-9fa3-4736-ade6-414ce94dbeb6",
   "metadata": {},
   "outputs": [
    {
     "data": {
      "text/plain": [
       "- : int = 896\n"
      ]
     },
     "execution_count": 17,
     "metadata": {},
     "output_type": "execute_result"
    },
    {
     "ename": "error",
     "evalue": "compile_error",
     "output_type": "error",
     "traceback": [
      "File \"[17]\", line 8, characters 0-1:\n8 | v 6;;\n    ^\nError: Unbound value v\n"
     ]
    }
   ],
   "source": [
    "let rec u n = \n",
    "    if n=0 then 2 \n",
    "    else u (n-1) - u(n-1) * v(n-1) \n",
    "    and v n = \n",
    "    if n=0 then 3\n",
    "    else v(n-1) + u(n-1) * v(n-1) in\n",
    "u 3;;\n",
    "v 6;;\n",
    "    "
   ]
  },
  {
   "cell_type": "markdown",
   "id": "633fff0c",
   "metadata": {},
   "source": [
    "## Retour sur les tours de Hanoi\n",
    "\n",
    "**Remarque** : le problème des tours de Hanoi a déjà été vu en stage, mais on le refait ici en OCaml. En outre, il est utile de réactiver sa mémoire pour se souvenir des méthodes et il m'arrivera pendant l'année de redonner des exercices déjà posés."
   ]
  },
  {
   "cell_type": "markdown",
   "id": "b3da91d9",
   "metadata": {},
   "source": [
    "![](../img/hanoi.png)\n",
    "\n",
    "$n$ disques sont posés sur la tige à gauche. L'objectif est de déplacer tous les disques sur la tige à droite :\n",
    "\n",
    "![](../img/hanoi2.png)\n",
    "\n",
    "Règles du jeu :\n",
    "\n",
    "- On ne peut déplacer qu'un disque à la fois (celui tout en haut), sur une autre tige.\n",
    "- Il est interdit de poser un disque sur un autre plus petit.\n",
    "\n",
    "Exemple de premier déplacement valide :\n",
    "\n",
    "![](../img/hanoi3.png)\n",
    "\n",
    "On souhaite écrire une fonction récursive `hanoi` telle que `hanoi n tige1 tige2` affiche une suite de déplacements (avec des `print_int`) permettant de déplacer $n$ disques depuis `tige1` vers `tige2`. On supposera que les tiges sont numérotées 0, 1, 2 (de gauche à droite).\n",
    "\n",
    "1. Supposons que vous sachiez déplacer $n-1$ disques d'une tige à une autre. Comment déplacer $n$ disques d'une tige à une autre ?\n",
    "2. Écrire `hanoi`."
   ]
  },
  {
   "cell_type": "code",
   "execution_count": 18,
   "id": "61aee8b9-4bd5-4f06-a949-48b172dea8d5",
   "metadata": {},
   "outputs": [
    {
     "data": {
      "text/plain": [
       "val hanoi : int -> int -> int -> int -> unit = <fun>\n"
      ]
     },
     "execution_count": 18,
     "metadata": {},
     "output_type": "execute_result"
    },
    {
     "ename": "error",
     "evalue": "runtime_error",
     "output_type": "error",
     "traceback": [
      "\u001b[31mStack overflow during evaluation (looping recursion?).\nRaised by primitive operation at file \"[18]\", line 3, characters 9-39\nCalled from file \"[18]\", line 3, characters 9-39\nCalled from file \"[18]\", line 3, characters 9-39\nCalled from file \"[18]\", line 3, characters 9-39\nCalled from file \"[18]\", line 3, characters 9-39\nCalled from file \"[18]\", line 3, characters 9-39\nCalled from file \"[18]\", line 3, characters 9-39\nCalled from file \"[18]\", line 3, characters 9-39\nCalled from file \"[18]\", line 3, characters 9-39\nCalled from file \"[18]\", line 3, characters 9-39\nCalled from file \"[18]\", line 3, characters 9-39\nCalled from file \"[18]\", line 3, characters 9-39\nCalled from file \"[18]\", line 3, characters 9-39\nCalled from file \"[18]\", line 3, characters 9-39\nCalled from file \"[18]\", line 3, characters 9-39\nCalled from file \"[18]\", line 3, characters 9-39\nCalled from file \"[18]\", line 3, characters 9-39\nCalled from file \"[18]\", line 3, characters 9-39\nCalled from file \"[18]\", line 3, characters 9-39\nCalled from file \"[18]\", line 3, characters 9-39\nCalled from file \"[18]\", line 3, characters 9-39\nCalled from file \"[18]\", line 3, characters 9-39\nCalled from file \"[18]\", line 3, characters 9-39\nCalled from file \"[18]\", line 3, characters 9-39\nCalled from file \"[18]\", line 3, characters 9-39\nCalled from file \"[18]\", line 3, characters 9-39\nCalled from file \"[18]\", line 3, characters 9-39\nCalled from file \"[18]\", line 3, characters 9-39\nCalled from file \"[18]\", line 3, characters 9-39\nCalled from file \"[18]\", line 3, characters 9-39\nCalled from file \"[18]\", line 3, characters 9-39\nCalled from file \"[18]\", line 3, characters 9-39\nCalled from file \"[18]\", line 3, characters 9-39\nCalled from file \"[18]\", line 3, characters 9-39\nCalled from file \"[18]\", line 3, characters 9-39\nCalled from file \"[18]\", line 3, characters 9-39\nCalled from file \"[18]\", line 3, characters 9-39\nCalled from file \"[18]\", line 3, characters 9-39\nCalled from file \"[18]\", line 3, characters 9-39\nCalled from file \"[18]\", line 3, characters 9-39\nCalled from file \"[18]\", line 3, characters 9-39\nCalled from file \"[18]\", line 3, characters 9-39\nCalled from file \"[18]\", line 3, characters 9-39\nCalled from file \"[18]\", line 3, characters 9-39\nCalled from file \"[18]\", line 3, characters 9-39\nCalled from file \"[18]\", line 3, characters 9-39\nCalled from file \"[18]\", line 3, characters 9-39\nCalled from file \"[18]\", line 3, characters 9-39\nCalled from file \"[18]\", line 3, characters 9-39\nCalled from file \"[18]\", line 3, characters 9-39\nCalled from file \"[18]\", line 3, characters 9-39\nCalled from file \"[18]\", line 3, characters 9-39\nCalled from file \"[18]\", line 3, characters 9-39\nCalled from file \"[18]\", line 3, characters 9-39\nCalled from file \"[18]\", line 3, characters 9-39\nCalled from file \"[18]\", line 3, characters 9-39\nCalled from file \"[18]\", line 3, characters 9-39\nCalled from file \"[18]\", line 3, characters 9-39\nCalled from file \"[18]\", line 3, characters 9-39\nCalled from file \"[18]\", line 3, characters 9-39\nCalled from file \"[18]\", line 3, characters 9-39\nCalled from file \"[18]\", line 3, characters 9-39\nCalled from file \"[18]\", line 3, characters 9-39\nCalled from file \"[18]\", line 3, characters 9-39\nCalled from file \"[18]\", line 3, characters 9-39\nCalled from file \"[18]\", line 3, characters 9-39\nCalled from file \"[18]\", line 3, characters 9-39\nCalled from file \"[18]\", line 3, characters 9-39\nCalled from file \"[18]\", line 3, characters 9-39\nCalled from file \"[18]\", line 3, characters 9-39\nCalled from file \"[18]\", line 3, characters 9-39\nCalled from file \"[18]\", line 3, characters 9-39\nCalled from file \"[18]\", line 3, characters 9-39\nCalled from file \"[18]\", line 3, characters 9-39\nCalled from file \"[18]\", line 3, characters 9-39\nCalled from file \"[18]\", line 3, characters 9-39\nCalled from file \"[18]\", line 3, characters 9-39\nCalled from file \"[18]\", line 3, characters 9-39\nCalled from file \"[18]\", line 3, characters 9-39\nCalled from file \"[18]\", line 3, characters 9-39\nCalled from file \"[18]\", line 3, characters 9-39\nCalled from file \"[18]\", line 3, characters 9-39\nCalled from file \"[18]\", line 3, characters 9-39\nCalled from file \"[18]\", line 3, characters 9-39\nCalled from file \"[18]\", line 3, characters 9-39\nCalled from file \"[18]\", line 3, characters 9-39\nCalled from file \"[18]\", line 3, characters 9-39\nCalled from file \"[18]\", line 3, characters 9-39\nCalled from file \"[18]\", line 3, characters 9-39\nCalled from file \"[18]\", line 3, characters 9-39\nCalled from file \"[18]\", line 3, characters 9-39\nCalled from file \"[18]\", line 3, characters 9-39\nCalled from file \"[18]\", line 3, characters 9-39\nCalled from file \"[18]\", line 3, characters 9-39\nCalled from file \"[18]\", line 3, characters 9-39\nCalled from file \"[18]\", line 3, characters 9-39\nCalled from file \"[18]\", line 3, characters 9-39\nCalled from file \"[18]\", line 3, characters 9-39\nCalled from file \"[18]\", line 3, characters 9-39\nCalled from file \"[18]\", line 3, characters 9-39\nCalled from file \"[18]\", line 3, characters 9-39\nCalled from file \"[18]\", line 3, characters 9-39\nCalled from file \"[18]\", line 3, characters 9-39\nCalled from file \"[18]\", line 3, characters 9-39\nCalled from file \"[18]\", line 3, characters 9-39\nCalled from file \"[18]\", line 3, characters 9-39\nCalled from file \"[18]\", line 3, characters 9-39\nCalled from file \"[18]\", line 3, characters 9-39\nCalled from file \"[18]\", line 3, characters 9-39\nCalled from file \"[18]\", line 3, characters 9-39\nCalled from file \"[18]\", line 3, characters 9-39\nCalled from file \"[18]\", line 3, characters 9-39\nCalled from file \"[18]\", line 3, characters 9-39\nCalled from file \"[18]\", line 3, characters 9-39\nCalled from file \"[18]\", line 3, characters 9-39\nCalled from file \"[18]\", line 3, characters 9-39\nCalled from file \"[18]\", line 3, characters 9-39\nCalled from file \"[18]\", line 3, characters 9-39\nCalled from file \"[18]\", line 3, characters 9-39\nCalled from file \"[18]\", line 3, characters 9-39\nCalled from file \"[18]\", line 3, characters 9-39\nCalled from file \"[18]\", line 3, characters 9-39\nCalled from file \"[18]\", line 3, characters 9-39\nCalled from file \"[18]\", line 3, characters 9-39\nCalled from file \"[18]\", line 3, characters 9-39\nCalled from file \"[18]\", line 3, characters 9-39\nCalled from file \"[18]\", line 3, characters 9-39\nCalled from file \"[18]\", line 3, characters 9-39\nCalled from file \"[18]\", line 3, characters 9-39\nCalled from file \"[18]\", line 3, characters 9-39\nCalled from file \"[18]\", line 3, characters 9-39\nCalled from file \"[18]\", line 3, characters 9-39\nCalled from file \"[18]\", line 3, characters 9-39\nCalled from file \"[18]\", line 3, characters 9-39\nCalled from file \"[18]\", line 3, characters 9-39\nCalled from file \"[18]\", line 3, characters 9-39\nCalled from file \"[18]\", line 3, characters 9-39\nCalled from file \"[18]\", line 3, characters 9-39\nCalled from file \"[18]\", line 3, characters 9-39\nCalled from file \"[18]\", line 3, characters 9-39\nCalled from file \"[18]\", line 3, characters 9-39\nCalled from file \"[18]\", line 3, characters 9-39\nCalled from file \"[18]\", line 3, characters 9-39\nCalled from file \"[18]\", line 3, characters 9-39\nCalled from file \"[18]\", line 3, characters 9-39\nCalled from file \"[18]\", line 3, characters 9-39\nCalled from file \"[18]\", line 3, characters 9-39\nCalled from file \"[18]\", line 3, characters 9-39\nCalled from file \"[18]\", line 3, characters 9-39\nCalled from file \"[18]\", line 3, characters 9-39\nCalled from file \"[18]\", line 3, characters 9-39\nCalled from file \"[18]\", line 3, characters 9-39\nCalled from file \"[18]\", line 3, characters 9-39\nCalled from file \"[18]\", line 3, characters 9-39\nCalled from file \"[18]\", line 3, characters 9-39\nCalled from file \"[18]\", line 3, characters 9-39\nCalled from file \"[18]\", line 3, characters 9-39\nCalled from file \"[18]\", line 3, characters 9-39\nCalled from file \"[18]\", line 3, characters 9-39\nCalled from file \"[18]\", line 3, characters 9-39\nCalled from file \"[18]\", line 3, characters 9-39\nCalled from file \"[18]\", line 3, characters 9-39\nCalled from file \"[18]\", line 3, characters 9-39\nCalled from file \"[18]\", line 3, characters 9-39\nCalled from file \"[18]\", line 3, characters 9-39\nCalled from file \"[18]\", line 3, characters 9-39\nCalled from file \"[18]\", line 3, characters 9-39\nCalled from file \"[18]\", line 3, characters 9-39\nCalled from file \"[18]\", line 3, characters 9-39\nCalled from file \"[18]\", line 3, characters 9-39\nCalled from file \"[18]\", line 3, characters 9-39\nCalled from file \"[18]\", line 3, characters 9-39\nCalled from file \"[18]\", line 3, characters 9-39\nCalled from file \"[18]\", line 3, characters 9-39\nCalled from file \"[18]\", line 3, characters 9-39\nCalled from file \"[18]\", line 3, characters 9-39\nCalled from file \"[18]\", line 3, characters 9-39\nCalled from file \"[18]\", line 3, characters 9-39\nCalled from file \"[18]\", line 3, characters 9-39\nCalled from file \"[18]\", line 3, characters 9-39\nCalled from file \"[18]\", line 3, characters 9-39\nCalled from file \"[18]\", line 3, characters 9-39\nCalled from file \"[18]\", line 3, characters 9-39\nCalled from file \"[18]\", line 3, characters 9-39\nCalled from file \"[18]\", line 3, characters 9-39\nCalled from file \"[18]\", line 3, characters 9-39\nCalled from file \"[18]\", line 3, characters 9-39\nCalled from file \"[18]\", line 3, characters 9-39\nCalled from file \"[18]\", line 3, characters 9-39\nCalled from file \"[18]\", line 3, characters 9-39\nCalled from file \"[18]\", line 3, characters 9-39\nCalled from file \"[18]\", line 3, characters 9-39\nCalled from file \"[18]\", line 3, characters 9-39\nCalled from file \"[18]\", line 3, characters 9-39\nCalled from file \"[18]\", line 3, characters 9-39\nCalled from file \"[18]\", line 3, characters 9-39\nCalled from file \"[18]\", line 3, characters 9-39\nCalled from file \"[18]\", line 3, characters 9-39\nCalled from file \"[18]\", line 3, characters 9-39\nCalled from file \"[18]\", line 3, characters 9-39\nCalled from file \"[18]\", line 3, characters 9-39\nCalled from file \"[18]\", line 3, characters 9-39\nCalled from file \"[18]\", line 3, characters 9-39\nCalled from file \"[18]\", line 3, characters 9-39\nCalled from file \"[18]\", line 3, characters 9-39\nCalled from file \"[18]\", line 3, characters 9-39\nCalled from file \"[18]\", line 3, characters 9-39\nCalled from file \"[18]\", line 3, characters 9-39\nCalled from file \"[18]\", line 3, characters 9-39\nCalled from file \"[18]\", line 3, characters 9-39\nCalled from file \"[18]\", line 3, characters 9-39\nCalled from file \"[18]\", line 3, characters 9-39\nCalled from file \"[18]\", line 3, characters 9-39\nCalled from file \"[18]\", line 3, characters 9-39\nCalled from file \"[18]\", line 3, characters 9-39\nCalled from file \"[18]\", line 3, characters 9-39\nCalled from file \"[18]\", line 3, characters 9-39\nCalled from file \"[18]\", line 3, characters 9-39\nCalled from file \"[18]\", line 3, characters 9-39\nCalled from file \"[18]\", line 3, characters 9-39\nCalled from file \"[18]\", line 3, characters 9-39\nCalled from file \"[18]\", line 3, characters 9-39\nCalled from file \"[18]\", line 3, characters 9-39\nCalled from file \"[18]\", line 3, characters 9-39\nCalled from file \"[18]\", line 3, characters 9-39\nCalled from file \"[18]\", line 3, characters 9-39\nCalled from file \"[18]\", line 3, characters 9-39\nCalled from file \"[18]\", line 3, characters 9-39\nCalled from file \"[18]\", line 3, characters 9-39\nCalled from file \"[18]\", line 3, characters 9-39\nCalled from file \"[18]\", line 3, characters 9-39\nCalled from file \"[18]\", line 3, characters 9-39\nCalled from file \"[18]\", line 3, characters 9-39\nCalled from file \"[18]\", line 3, characters 9-39\nCalled from file \"[18]\", line 3, characters 9-39\nCalled from file \"[18]\", line 3, characters 9-39\nCalled from file \"[18]\", line 3, characters 9-39\nCalled from file \"[18]\", line 3, characters 9-39\nCalled from file \"[18]\", line 3, characters 9-39\nCalled from file \"[18]\", line 3, characters 9-39\nCalled from file \"[18]\", line 3, characters 9-39\nCalled from file \"[18]\", line 3, characters 9-39\nCalled from file \"[18]\", line 3, characters 9-39\nCalled from file \"[18]\", line 3, characters 9-39\nCalled from file \"[18]\", line 3, characters 9-39\nCalled from file \"[18]\", line 3, characters 9-39\nCalled from file \"[18]\", line 3, characters 9-39\nCalled from file \"[18]\", line 3, characters 9-39\nCalled from file \"[18]\", line 3, characters 9-39\nCalled from file \"[18]\", line 3, characters 9-39\nCalled from file \"[18]\", line 3, characters 9-39\nCalled from file \"[18]\", line 3, characters 9-39\nCalled from file \"[18]\", line 3, characters 9-39\nCalled from file \"[18]\", line 3, characters 9-39\nCalled from file \"[18]\", line 3, characters 9-39\nCalled from file \"[18]\", line 3, characters 9-39\nCalled from file \"[18]\", line 3, characters 9-39\nCalled from file \"[18]\", line 3, characters 9-39\nCalled from file \"[18]\", line 3, characters 9-39\nCalled from file \"[18]\", line 3, characters 9-39\nCalled from file \"[18]\", line 3, characters 9-39\nCalled from file \"[18]\", line 3, characters 9-39\nCalled from file \"[18]\", line 3, characters 9-39\nCalled from file \"[18]\", line 3, characters 9-39\nCalled from file \"[18]\", line 3, characters 9-39\nCalled from file \"[18]\", line 3, characters 9-39\nCalled from file \"[18]\", line 3, characters 9-39\nCalled from file \"[18]\", line 3, characters 9-39\nCalled from file \"[18]\", line 3, characters 9-39\nCalled from file \"[18]\", line 3, characters 9-39\nCalled from file \"[18]\", line 3, characters 9-39\nCalled from file \"[18]\", line 3, characters 9-39\nCalled from file \"[18]\", line 3, characters 9-39\nCalled from file \"[18]\", line 3, characters 9-39\nCalled from file \"[18]\", line 3, characters 9-39\nCalled from file \"[18]\", line 3, characters 9-39\nCalled from file \"[18]\", line 3, characters 9-39\nCalled from file \"[18]\", line 3, characters 9-39\nCalled from file \"[18]\", line 3, characters 9-39\nCalled from file \"[18]\", line 3, characters 9-39\nCalled from file \"[18]\", line 3, characters 9-39\nCalled from file \"[18]\", line 3, characters 9-39\nCalled from file \"[18]\", line 3, characters 9-39\nCalled from file \"[18]\", line 3, characters 9-39\nCalled from file \"[18]\", line 3, characters 9-39\nCalled from file \"[18]\", line 3, characters 9-39\nCalled from file \"[18]\", line 3, characters 9-39\nCalled from file \"[18]\", line 3, characters 9-39\nCalled from file \"[18]\", line 3, characters 9-39\nCalled from file \"[18]\", line 3, characters 9-39\nCalled from file \"[18]\", line 3, characters 9-39\nCalled from file \"[18]\", line 3, characters 9-39\nCalled from file \"[18]\", line 3, characters 9-39\nCalled from file \"[18]\", line 3, characters 9-39\nCalled from file \"[18]\", line 3, characters 9-39\nCalled from file \"[18]\", line 3, characters 9-39\nCalled from file \"[18]\", line 3, characters 9-39\nCalled from file \"[18]\", line 3, characters 9-39\nCalled from file \"[18]\", line 3, characters 9-39\nCalled from file \"[18]\", line 3, characters 9-39\nCalled from file \"[18]\", line 3, characters 9-39\nCalled from file \"[18]\", line 3, characters 9-39\nCalled from file \"[18]\", line 3, characters 9-39\nCalled from file \"[18]\", line 3, characters 9-39\nCalled from file \"[18]\", line 3, characters 9-39\nCalled from file \"[18]\", line 3, characters 9-39\nCalled from file \"[18]\", line 3, characters 9-39\nCalled from file \"[18]\", line 3, characters 9-39\nCalled from file \"[18]\", line 3, characters 9-39\nCalled from file \"[18]\", line 3, characters 9-39\nCalled from file \"[18]\", line 3, characters 9-39\nCalled from file \"[18]\", line 3, characters 9-39\nCalled from file \"[18]\", line 3, characters 9-39\nCalled from file \"[18]\", line 3, characters 9-39\nCalled from file \"[18]\", line 3, characters 9-39\nCalled from file \"[18]\", line 3, characters 9-39\nCalled from file \"[18]\", line 3, characters 9-39\nCalled from file \"[18]\", line 3, characters 9-39\nCalled from file \"[18]\", line 3, characters 9-39\nCalled from file \"[18]\", line 3, characters 9-39\nCalled from file \"[18]\", line 3, characters 9-39\nCalled from file \"[18]\", line 3, characters 9-39\nCalled from file \"[18]\", line 3, characters 9-39\nCalled from file \"[18]\", line 3, characters 9-39\nCalled from file \"[18]\", line 3, characters 9-39\nCalled from file \"[18]\", line 3, characters 9-39\nCalled from file \"[18]\", line 3, characters 9-39\nCalled from file \"[18]\", line 3, characters 9-39\nCalled from file \"[18]\", line 3, characters 9-39\nCalled from file \"[18]\", line 3, characters 9-39\nCalled from file \"[18]\", line 3, characters 9-39\nCalled from file \"[18]\", line 3, characters 9-39\nCalled from file \"[18]\", line 3, characters 9-39\nCalled from file \"[18]\", line 3, characters 9-39\nCalled from file \"[18]\", line 3, characters 9-39\nCalled from file \"[18]\", line 3, characters 9-39\nCalled from file \"[18]\", line 3, characters 9-39\nCalled from file \"[18]\", line 3, characters 9-39\nCalled from file \"[18]\", line 3, characters 9-39\nCalled from file \"[18]\", line 3, characters 9-39\nCalled from file \"[18]\", line 3, characters 9-39\nCalled from file \"[18]\", line 3, characters 9-39\nCalled from file \"[18]\", line 3, characters 9-39\nCalled from file \"[18]\", line 3, characters 9-39\nCalled from file \"[18]\", line 3, characters 9-39\nCalled from file \"[18]\", line 3, characters 9-39\nCalled from file \"[18]\", line 3, characters 9-39\nCalled from file \"[18]\", line 3, characters 9-39\nCalled from file \"[18]\", line 3, characters 9-39\nCalled from file \"[18]\", line 3, characters 9-39\nCalled from file \"[18]\", line 3, characters 9-39\nCalled from file \"[18]\", line 3, characters 9-39\nCalled from file \"[18]\", line 3, characters 9-39\nCalled from file \"[18]\", line 3, characters 9-39\nCalled from file \"[18]\", line 3, characters 9-39\nCalled from file \"[18]\", line 3, characters 9-39\nCalled from file \"[18]\", line 3, characters 9-39\nCalled from file \"[18]\", line 3, characters 9-39\nCalled from file \"[18]\", line 3, characters 9-39\nCalled from file \"[18]\", line 3, characters 9-39\nCalled from file \"[18]\", line 3, characters 9-39\nCalled from file \"[18]\", line 3, characters 9-39\nCalled from file \"[18]\", line 3, characters 9-39\nCalled from file \"[18]\", line 3, characters 9-39\nCalled from file \"[18]\", line 3, characters 9-39\nCalled from file \"[18]\", line 3, characters 9-39\nCalled from file \"[18]\", line 3, characters 9-39\nCalled from file \"[18]\", line 3, characters 9-39\nCalled from file \"[18]\", line 3, characters 9-39\nCalled from file \"[18]\", line 3, characters 9-39\nCalled from file \"[18]\", line 3, characters 9-39\nCalled from file \"[18]\", line 3, characters 9-39\nCalled from file \"[18]\", line 3, characters 9-39\nCalled from file \"[18]\", line 3, characters 9-39\nCalled from file \"[18]\", line 3, characters 9-39\nCalled from file \"[18]\", line 3, characters 9-39\nCalled from file \"[18]\", line 3, characters 9-39\nCalled from file \"[18]\", line 3, characters 9-39\nCalled from file \"[18]\", line 3, characters 9-39\nCalled from file \"[18]\", line 3, characters 9-39\nCalled from file \"[18]\", line 3, characters 9-39\nCalled from file \"[18]\", line 3, characters 9-39\nCalled from file \"[18]\", line 3, characters 9-39\nCalled from file \"[18]\", line 3, characters 9-39\nCalled from file \"[18]\", line 3, characters 9-39\nCalled from file \"[18]\", line 3, characters 9-39\nCalled from file \"[18]\", line 3, characters 9-39\nCalled from file \"[18]\", line 3, characters 9-39\nCalled from file \"[18]\", line 3, characters 9-39\nCalled from file \"[18]\", line 3, characters 9-39\nCalled from file \"[18]\", line 3, characters 9-39\nCalled from file \"[18]\", line 3, characters 9-39\nCalled from file \"[18]\", line 3, characters 9-39\nCalled from file \"[18]\", line 3, characters 9-39\nCalled from file \"[18]\", line 3, characters 9-39\nCalled from file \"[18]\", line 3, characters 9-39\nCalled from file \"[18]\", line 3, characters 9-39\nCalled from file \"[18]\", line 3, characters 9-39\nCalled from file \"[18]\", line 3, characters 9-39\nCalled from file \"[18]\", line 3, characters 9-39\nCalled from file \"[18]\", line 3, characters 9-39\nCalled from file \"[18]\", line 3, characters 9-39\nCalled from file \"[18]\", line 3, characters 9-39\nCalled from file \"[18]\", line 3, characters 9-39\nCalled from file \"[18]\", line 3, characters 9-39\nCalled from file \"[18]\", line 3, characters 9-39\nCalled from file \"[18]\", line 3, characters 9-39\nCalled from file \"[18]\", line 3, characters 9-39\nCalled from file \"[18]\", line 3, characters 9-39\nCalled from file \"[18]\", line 3, characters 9-39\nCalled from file \"[18]\", line 3, characters 9-39\nCalled from file \"[18]\", line 3, characters 9-39\nCalled from file \"[18]\", line 3, characters 9-39\nCalled from file \"[18]\", line 3, characters 9-39\nCalled from file \"[18]\", line 3, characters 9-39\nCalled from file \"[18]\", line 3, characters 9-39\nCalled from file \"[18]\", line 3, characters 9-39\nCalled from file \"[18]\", line 3, characters 9-39\nCalled from file \"[18]\", line 3, characters 9-39\nCalled from file \"[18]\", line 3, characters 9-39\nCalled from file \"[18]\", line 3, characters 9-39\nCalled from file \"[18]\", line 3, characters 9-39\nCalled from file \"[18]\", line 3, characters 9-39\nCalled from file \"[18]\", line 3, characters 9-39\nCalled from file \"[18]\", line 3, characters 9-39\nCalled from file \"[18]\", line 3, characters 9-39\nCalled from file \"[18]\", line 3, characters 9-39\nCalled from file \"[18]\", line 3, characters 9-39\nCalled from file \"[18]\", line 3, characters 9-39\nCalled from file \"[18]\", line 3, characters 9-39\nCalled from file \"[18]\", line 3, characters 9-39\nCalled from file \"[18]\", line 3, characters 9-39\nCalled from file \"[18]\", line 3, characters 9-39\nCalled from file \"[18]\", line 3, characters 9-39\nCalled from file \"[18]\", line 3, characters 9-39\nCalled from file \"[18]\", line 3, characters 9-39\nCalled from file \"[18]\", line 3, characters 9-39\nCalled from file \"[18]\", line 3, characters 9-39\nCalled from file \"[18]\", line 3, characters 9-39\nCalled from file \"[18]\", line 3, characters 9-39\nCalled from file \"[18]\", line 3, characters 9-39\nCalled from file \"[18]\", line 3, characters 9-39\nCalled from file \"[18]\", line 3, characters 9-39\nCalled from file \"[18]\", line 3, characters 9-39\nCalled from file \"[18]\", line 3, characters 9-39\nCalled from file \"[18]\", line 3, characters 9-39\nCalled from file \"[18]\", line 3, characters 9-39\nCalled from file \"[18]\", line 3, characters 9-39\nCalled from file \"[18]\", line 3, characters 9-39\nCalled from file \"[18]\", line 3, characters 9-39\nCalled from file \"[18]\", line 3, characters 9-39\nCalled from file \"[18]\", line 3, characters 9-39\nCalled from file \"[18]\", line 3, characters 9-39\nCalled from file \"[18]\", line 3, characters 9-39\nCalled from file \"[18]\", line 3, characters 9-39\nCalled from file \"[18]\", line 3, characters 9-39\nCalled from file \"[18]\", line 3, characters 9-39\nCalled from file \"[18]\", line 3, characters 9-39\nCalled from file \"[18]\", line 3, characters 9-39\nCalled from file \"[18]\", line 3, characters 9-39\nCalled from file \"[18]\", line 3, characters 9-39\nCalled from file \"[18]\", line 3, characters 9-39\nCalled from file \"[18]\", line 3, characters 9-39\nCalled from file \"[18]\", line 3, characters 9-39\nCalled from file \"[18]\", line 3, characters 9-39\nCalled from file \"[18]\", line 3, characters 9-39\nCalled from file \"[18]\", line 3, characters 9-39\nCalled from file \"[18]\", line 3, characters 9-39\nCalled from file \"[18]\", line 3, characters 9-39\nCalled from file \"[18]\", line 3, characters 9-39\nCalled from file \"[18]\", line 3, characters 9-39\nCalled from file \"[18]\", line 3, characters 9-39\nCalled from file \"[18]\", line 3, characters 9-39\nCalled from file \"[18]\", line 3, characters 9-39\nCalled from file \"[18]\", line 3, characters 9-39\nCalled from file \"[18]\", line 3, characters 9-39\nCalled from file \"[18]\", line 3, characters 9-39\nCalled from file \"[18]\", line 3, characters 9-39\nCalled from file \"[18]\", line 3, characters 9-39\nCalled from file \"[18]\", line 3, characters 9-39\nCalled from file \"[18]\", line 3, characters 9-39\nCalled from file \"[18]\", line 3, characters 9-39\nCalled from file \"[18]\", line 3, characters 9-39\nCalled from file \"[18]\", line 3, characters 9-39\nCalled from file \"[18]\", line 3, characters 9-39\nCalled from file \"[18]\", line 3, characters 9-39\nCalled from file \"[18]\", line 3, characters 9-39\nCalled from file \"[18]\", line 3, characters 9-39\nCalled from file \"[18]\", line 3, characters 9-39\nCalled from file \"[18]\", line 3, characters 9-39\nCalled from file \"[18]\", line 3, characters 9-39\nCalled from file \"[18]\", line 3, characters 9-39\nCalled from file \"[18]\", line 3, characters 9-39\nCalled from file \"[18]\", line 3, characters 9-39\nCalled from file \"[18]\", line 3, characters 9-39\nCalled from file \"[18]\", line 3, characters 9-39\nCalled from file \"[18]\", line 3, characters 9-39\nCalled from file \"[18]\", line 3, characters 9-39\nCalled from file \"[18]\", line 3, characters 9-39\nCalled from file \"[18]\", line 3, characters 9-39\nCalled from file \"[18]\", line 3, characters 9-39\nCalled from file \"[18]\", line 3, characters 9-39\nCalled from file \"[18]\", line 3, characters 9-39\nCalled from file \"[18]\", line 3, characters 9-39\nCalled from file \"[18]\", line 3, characters 9-39\nCalled from file \"[18]\", line 3, characters 9-39\nCalled from file \"[18]\", line 3, characters 9-39\nCalled from file \"[18]\", line 3, characters 9-39\nCalled from file \"[18]\", line 3, characters 9-39\nCalled from file \"[18]\", line 3, characters 9-39\nCalled from file \"[18]\", line 3, characters 9-39\nCalled from file \"[18]\", line 3, characters 9-39\nCalled from file \"[18]\", line 3, characters 9-39\nCalled from file \"[18]\", line 3, characters 9-39\nCalled from file \"[18]\", line 3, characters 9-39\nCalled from file \"[18]\", line 3, characters 9-39\nCalled from file \"[18]\", line 3, characters 9-39\nCalled from file \"[18]\", line 3, characters 9-39\nCalled from file \"[18]\", line 3, characters 9-39\nCalled from file \"[18]\", line 3, characters 9-39\nCalled from file \"[18]\", line 3, characters 9-39\nCalled from file \"[18]\", line 3, characters 9-39\nCalled from file \"[18]\", line 3, characters 9-39\nCalled from file \"[18]\", line 3, characters 9-39\nCalled from file \"[18]\", line 3, characters 9-39\nCalled from file \"[18]\", line 3, characters 9-39\nCalled from file \"[18]\", line 3, characters 9-39\nCalled from file \"[18]\", line 3, characters 9-39\nCalled from file \"[18]\", line 3, characters 9-39\nCalled from file \"[18]\", line 3, characters 9-39\nCalled from file \"[18]\", line 3, characters 9-39\nCalled from file \"[18]\", line 3, characters 9-39\nCalled from file \"[18]\", line 3, characters 9-39\nCalled from file \"[18]\", line 3, characters 9-39\nCalled from file \"[18]\", line 3, characters 9-39\nCalled from file \"[18]\", line 3, characters 9-39\nCalled from file \"[18]\", line 3, characters 9-39\nCalled from file \"[18]\", line 3, characters 9-39\nCalled from file \"[18]\", line 3, characters 9-39\nCalled from file \"[18]\", line 3, characters 9-39\nCalled from file \"[18]\", line 3, characters 9-39\nCalled from file \"[18]\", line 3, characters 9-39\nCalled from file \"[18]\", line 3, characters 9-39\nCalled from file \"[18]\", line 3, characters 9-39\nCalled from file \"[18]\", line 3, characters 9-39\nCalled from file \"[18]\", line 3, characters 9-39\nCalled from file \"[18]\", line 3, characters 9-39\nCalled from file \"[18]\", line 3, characters 9-39\nCalled from file \"[18]\", line 3, characters 9-39\nCalled from file \"[18]\", line 3, characters 9-39\nCalled from file \"[18]\", line 3, characters 9-39\nCalled from file \"[18]\", line 3, characters 9-39\nCalled from file \"[18]\", line 3, characters 9-39\nCalled from file \"[18]\", line 3, characters 9-39\nCalled from file \"[18]\", line 3, characters 9-39\nCalled from file \"[18]\", line 3, characters 9-39\nCalled from file \"[18]\", line 3, characters 9-39\nCalled from file \"[18]\", line 3, characters 9-39\nCalled from file \"[18]\", line 3, characters 9-39\nCalled from file \"[18]\", line 3, characters 9-39\nCalled from file \"[18]\", line 3, characters 9-39\nCalled from file \"[18]\", line 3, characters 9-39\nCalled from file \"[18]\", line 3, characters 9-39\nCalled from file \"[18]\", line 3, characters 9-39\nCalled from file \"[18]\", line 3, characters 9-39\nCalled from file \"[18]\", line 3, characters 9-39\nCalled from file \"[18]\", line 3, characters 9-39\nCalled from file \"[18]\", line 3, characters 9-39\nCalled from file \"[18]\", line 3, characters 9-39\nCalled from file \"[18]\", line 3, characters 9-39\nCalled from file \"[18]\", line 3, characters 9-39\nCalled from file \"[18]\", line 3, characters 9-39\nCalled from file \"[18]\", line 3, characters 9-39\nCalled from file \"[18]\", line 3, characters 9-39\nCalled from file \"[18]\", line 3, characters 9-39\nCalled from file \"[18]\", line 3, characters 9-39\nCalled from file \"[18]\", line 3, characters 9-39\nCalled from file \"[18]\", line 3, characters 9-39\nCalled from file \"[18]\", line 3, characters 9-39\nCalled from file \"[18]\", line 3, characters 9-39\nCalled from file \"[18]\", line 3, characters 9-39\nCalled from file \"[18]\", line 3, characters 9-39\nCalled from file \"[18]\", line 3, characters 9-39\nCalled from file \"[18]\", line 3, characters 9-39\nCalled from file \"[18]\", line 3, characters 9-39\nCalled from file \"[18]\", line 3, characters 9-39\nCalled from file \"[18]\", line 3, characters 9-39\nCalled from file \"[18]\", line 3, characters 9-39\nCalled from file \"[18]\", line 3, characters 9-39\nCalled from file \"[18]\", line 3, characters 9-39\nCalled from file \"[18]\", line 3, characters 9-39\nCalled from file \"[18]\", line 3, characters 9-39\nCalled from file \"[18]\", line 3, characters 9-39\nCalled from file \"[18]\", line 3, characters 9-39\nCalled from file \"[18]\", line 3, characters 9-39\nCalled from file \"[18]\", line 3, characters 9-39\nCalled from file \"[18]\", line 3, characters 9-39\nCalled from file \"[18]\", line 3, characters 9-39\nCalled from file \"[18]\", line 3, characters 9-39\nCalled from file \"[18]\", line 3, characters 9-39\nCalled from file \"[18]\", line 3, characters 9-39\nCalled from file \"[18]\", line 3, characters 9-39\nCalled from file \"[18]\", line 3, characters 9-39\nCalled from file \"[18]\", line 3, characters 9-39\nCalled from file \"[18]\", line 3, characters 9-39\nCalled from file \"[18]\", line 3, characters 9-39\nCalled from file \"[18]\", line 3, characters 9-39\nCalled from file \"[18]\", line 3, characters 9-39\nCalled from file \"[18]\", line 3, characters 9-39\nCalled from file \"[18]\", line 3, characters 9-39\nCalled from file \"[18]\", line 3, characters 9-39\nCalled from file \"[18]\", line 3, characters 9-39\nCalled from file \"[18]\", line 3, characters 9-39\nCalled from file \"[18]\", line 3, characters 9-39\nCalled from file \"[18]\", line 3, characters 9-39\nCalled from file \"[18]\", line 3, characters 9-39\nCalled from file \"[18]\", line 3, characters 9-39\nCalled from file \"[18]\", line 3, characters 9-39\nCalled from file \"[18]\", line 3, characters 9-39\nCalled from file \"[18]\", line 3, characters 9-39\nCalled from file \"[18]\", line 3, characters 9-39\nCalled from file \"[18]\", line 3, characters 9-39\nCalled from file \"[18]\", line 3, characters 9-39\nCalled from file \"[18]\", line 3, characters 9-39\nCalled from file \"[18]\", line 3, characters 9-39\nCalled from file \"[18]\", line 3, characters 9-39\nCalled from file \"[18]\", line 3, characters 9-39\nCalled from file \"[18]\", line 3, characters 9-39\nCalled from file \"[18]\", line 3, characters 9-39\nCalled from file \"[18]\", line 3, characters 9-39\nCalled from file \"[18]\", line 3, characters 9-39\nCalled from file \"[18]\", line 3, characters 9-39\nCalled from file \"[18]\", line 3, characters 9-39\nCalled from file \"[18]\", line 3, characters 9-39\nCalled from file \"[18]\", line 3, characters 9-39\nCalled from file \"[18]\", line 3, characters 9-39\nCalled from file \"[18]\", line 3, characters 9-39\nCalled from file \"[18]\", line 3, characters 9-39\nCalled from file \"[18]\", line 3, characters 9-39\nCalled from file \"[18]\", line 3, characters 9-39\nCalled from file \"[18]\", line 3, characters 9-39\nCalled from file \"[18]\", line 3, characters 9-39\nCalled from file \"[18]\", line 3, characters 9-39\nCalled from file \"[18]\", line 3, characters 9-39\nCalled from file \"[18]\", line 3, characters 9-39\nCalled from file \"[18]\", line 3, characters 9-39\nCalled from file \"[18]\", line 3, characters 9-39\nCalled from file \"[18]\", line 3, characters 9-39\nCalled from file \"[18]\", line 3, characters 9-39\nCalled from file \"[18]\", line 3, characters 9-39\nCalled from file \"[18]\", line 3, characters 9-39\nCalled from file \"[18]\", line 3, characters 9-39\nCalled from file \"[18]\", line 3, characters 9-39\nCalled from file \"[18]\", line 3, characters 9-39\nCalled from file \"[18]\", line 3, characters 9-39\nCalled from file \"[18]\", line 3, characters 9-39\nCalled from file \"[18]\", line 3, characters 9-39\nCalled from file \"[18]\", line 3, characters 9-39\nCalled from file \"[18]\", line 3, characters 9-39\nCalled from file \"[18]\", line 3, characters 9-39\nCalled from file \"[18]\", line 3, characters 9-39\nCalled from file \"[18]\", line 3, characters 9-39\nCalled from file \"[18]\", line 3, characters 9-39\nCalled from file \"[18]\", line 3, characters 9-39\nCalled from file \"[18]\", line 3, characters 9-39\nCalled from file \"[18]\", line 3, characters 9-39\nCalled from file \"[18]\", line 3, characters 9-39\nCalled from file \"[18]\", line 3, characters 9-39\nCalled from file \"[18]\", line 3, characters 9-39\nCalled from file \"[18]\", line 3, characters 9-39\nCalled from file \"[18]\", line 3, characters 9-39\nCalled from file \"[18]\", line 3, characters 9-39\nCalled from file \"[18]\", line 3, characters 9-39\nCalled from file \"[18]\", line 3, characters 9-39\nCalled from file \"[18]\", line 3, characters 9-39\nCalled from file \"[18]\", line 3, characters 9-39\nCalled from file \"[18]\", line 3, characters 9-39\nCalled from file \"[18]\", line 3, characters 9-39\nCalled from file \"[18]\", line 3, characters 9-39\nCalled from file \"[18]\", line 3, characters 9-39\nCalled from file \"[18]\", line 3, characters 9-39\nCalled from file \"[18]\", line 3, characters 9-39\nCalled from file \"[18]\", line 3, characters 9-39\nCalled from file \"[18]\", line 3, characters 9-39\nCalled from file \"[18]\", line 3, characters 9-39\nCalled from file \"[18]\", line 3, characters 9-39\nCalled from file \"[18]\", line 3, characters 9-39\nCalled from file \"[18]\", line 3, characters 9-39\nCalled from file \"[18]\", line 3, characters 9-39\nCalled from file \"[18]\", line 3, characters 9-39\nCalled from file \"[18]\", line 3, characters 9-39\nCalled from file \"[18]\", line 3, characters 9-39\nCalled from file \"[18]\", line 3, characters 9-39\nCalled from file \"[18]\", line 3, characters 9-39\nCalled from file \"[18]\", line 3, characters 9-39\nCalled from file \"[18]\", line 3, characters 9-39\nCalled from file \"[18]\", line 3, characters 9-39\nCalled from file \"[18]\", line 3, characters 9-39\nCalled from file \"[18]\", line 3, characters 9-39\nCalled from file \"[18]\", line 3, characters 9-39\nCalled from file \"[18]\", line 3, characters 9-39\nCalled from file \"[18]\", line 3, characters 9-39\nCalled from file \"[18]\", line 3, characters 9-39\nCalled from file \"[18]\", line 3, characters 9-39\nCalled from file \"[18]\", line 3, characters 9-39\nCalled from file \"[18]\", line 3, characters 9-39\nCalled from file \"[18]\", line 3, characters 9-39\nCalled from file \"[18]\", line 3, characters 9-39\nCalled from file \"[18]\", line 3, characters 9-39\nCalled from file \"[18]\", line 3, characters 9-39\nCalled from file \"[18]\", line 3, characters 9-39\nCalled from file \"[18]\", line 3, characters 9-39\nCalled from file \"[18]\", line 3, characters 9-39\nCalled from file \"[18]\", line 3, characters 9-39\nCalled from file \"[18]\", line 3, characters 9-39\nCalled from file \"[18]\", line 3, characters 9-39\nCalled from file \"[18]\", line 3, characters 9-39\nCalled from file \"[18]\", line 3, characters 9-39\nCalled from file \"[18]\", line 3, characters 9-39\nCalled from file \"[18]\", line 3, characters 9-39\nCalled from file \"[18]\", line 3, characters 9-39\nCalled from file \"[18]\", line 3, characters 9-39\nCalled from file \"[18]\", line 3, characters 9-39\nCalled from file \"[18]\", line 3, characters 9-39\nCalled from file \"[18]\", line 3, characters 9-39\nCalled from file \"[18]\", line 3, characters 9-39\nCalled from file \"[18]\", line 3, characters 9-39\nCalled from file \"[18]\", line 3, characters 9-39\nCalled from file \"[18]\", line 3, characters 9-39\nCalled from file \"[18]\", line 3, characters 9-39\nCalled from file \"[18]\", line 3, characters 9-39\nCalled from file \"[18]\", line 3, characters 9-39\nCalled from file \"[18]\", line 3, characters 9-39\nCalled from file \"[18]\", line 3, characters 9-39\nCalled from file \"[18]\", line 3, characters 9-39\nCalled from file \"[18]\", line 3, characters 9-39\nCalled from file \"[18]\", line 3, characters 9-39\nCalled from file \"[18]\", line 3, characters 9-39\nCalled from file \"[18]\", line 3, characters 9-39\nCalled from file \"[18]\", line 3, characters 9-39\nCalled from file \"[18]\", line 3, characters 9-39\nCalled from file \"[18]\", line 3, characters 9-39\nCalled from file \"[18]\", line 3, characters 9-39\nCalled from file \"[18]\", line 3, characters 9-39\nCalled from file \"[18]\", line 3, characters 9-39\nCalled from file \"[18]\", line 3, characters 9-39\nCalled from file \"[18]\", line 3, characters 9-39\nCalled from file \"[18]\", line 3, characters 9-39\nCalled from file \"[18]\", line 3, characters 9-39\nCalled from file \"[18]\", line 3, characters 9-39\nCalled from file \"[18]\", line 3, characters 9-39\nCalled from file \"[18]\", line 3, characters 9-39\nCalled from file \"[18]\", line 3, characters 9-39\nCalled from file \"[18]\", line 3, characters 9-39\nCalled from file \"[18]\", line 3, characters 9-39\nCalled from file \"[18]\", line 3, characters 9-39\nCalled from file \"[18]\", line 3, characters 9-39\nCalled from file \"[18]\", line 3, characters 9-39\nCalled from file \"[18]\", line 3, characters 9-39\nCalled from file \"[18]\", line 3, characters 9-39\nCalled from file \"[18]\", line 3, characters 9-39\nCalled from file \"[18]\", line 3, characters 9-39\nCalled from file \"[18]\", line 3, characters 9-39\nCalled from file \"[18]\", line 3, characters 9-39\nCalled from file \"[18]\", line 3, characters 9-39\nCalled from file \"[18]\", line 3, characters 9-39\nCalled from file \"[18]\", line 3, characters 9-39\nCalled from file \"[18]\", line 3, characters 9-39\nCalled from file \"[18]\", line 3, characters 9-39\nCalled from file \"[18]\", line 3, characters 9-39\nCalled from file \"[18]\", line 3, characters 9-39\nCalled from file \"[18]\", line 3, characters 9-39\nCalled from file \"[18]\", line 3, characters 9-39\nCalled from file \"[18]\", line 3, characters 9-39\nCalled from file \"[18]\", line 3, characters 9-39\nCalled from file \"[18]\", line 3, characters 9-39\nCalled from file \"[18]\", line 3, characters 9-39\nCalled from file \"[18]\", line 3, characters 9-39\nCalled from file \"[18]\", line 3, characters 9-39\nCalled from file \"[18]\", line 3, characters 9-39\nCalled from file \"[18]\", line 3, characters 9-39\nCalled from file \"[18]\", line 3, characters 9-39\nCalled from file \"[18]\", line 3, characters 9-39\nCalled from file \"[18]\", line 3, characters 9-39\nCalled from file \"[18]\", line 3, characters 9-39\nCalled from file \"[18]\", line 3, characters 9-39\nCalled from file \"[18]\", line 3, characters 9-39\nCalled from file \"[18]\", line 3, characters 9-39\nCalled from file \"[18]\", line 3, characters 9-39\nCalled from file \"[18]\", line 3, characters 9-39\nCalled from file \"[18]\", line 3, characters 9-39\nCalled from file \"[18]\", line 3, characters 9-39\nCalled from file \"[18]\", line 3, characters 9-39\nCalled from file \"[18]\", line 3, characters 9-39\nCalled from file \"[18]\", line 3, characters 9-39\nCalled from file \"[18]\", line 3, characters 9-39\nCalled from file \"[18]\", line 3, characters 9-39\nCalled from file \"[18]\", line 3, characters 9-39\nCalled from file \"[18]\", line 3, characters 9-39\nCalled from file \"[18]\", line 3, characters 9-39\nCalled from file \"[18]\", line 3, characters 9-39\nCalled from file \"[18]\", line 3, characters 9-39\nCalled from file \"[18]\", line 3, characters 9-39\nCalled from file \"[18]\", line 3, characters 9-39\nCalled from file \"[18]\", line 3, characters 9-39\nCalled from file \"[18]\", line 3, characters 9-39\nCalled from file \"[18]\", line 3, characters 9-39\nCalled from file \"[18]\", line 3, characters 9-39\nCalled from file \"[18]\", line 3, characters 9-39\nCalled from file \"[18]\", line 3, characters 9-39\nCalled from file \"[18]\", line 3, characters 9-39\nCalled from file \"[18]\", line 3, characters 9-39\nCalled from file \"[18]\", line 3, characters 9-39\nCalled from file \"[18]\", line 3, characters 9-39\nCalled from file \"[18]\", line 3, characters 9-39\nCalled from file \"[18]\", line 3, characters 9-39\nCalled from file \"[18]\", line 3, characters 9-39\nCalled from file \"[18]\", line 3, characters 9-39\nCalled from file \"[18]\", line 3, characters 9-39\nCalled from file \"[18]\", line 3, characters 9-39\nCalled from file \"[18]\", line 3, characters 9-39\nCalled from file \"[18]\", line 3, characters 9-39\nCalled from file \"[18]\", line 3, characters 9-39\nCalled from file \"[18]\", line 3, characters 9-39\nCalled from file \"[18]\", line 3, characters 9-39\nCalled from file \"[18]\", line 3, characters 9-39\nCalled from file \"[18]\", line 3, characters 9-39\nCalled from file \"[18]\", line 3, characters 9-39\nCalled from file \"[18]\", line 3, characters 9-39\nCalled from file \"[18]\", line 3, characters 9-39\nCalled from file \"[18]\", line 3, characters 9-39\nCalled from file \"[18]\", line 3, characters 9-39\nCalled from file \"[18]\", line 3, characters 9-39\nCalled from file \"[18]\", line 3, characters 9-39\nCalled from file \"[18]\", line 3, characters 9-39\nCalled from file \"[18]\", line 3, characters 9-39\nCalled from file \"[18]\", line 3, characters 9-39\nCalled from file \"[18]\", line 3, characters 9-39\nCalled from file \"[18]\", line 3, characters 9-39\nCalled from file \"[18]\", line 3, characters 9-39\nCalled from file \"[18]\", line 3, characters 9-39\nCalled from file \"[18]\", line 3, characters 9-39\nCalled from file \"[18]\", line 3, characters 9-39\nCalled from file \"[18]\", line 3, characters 9-39\nCalled from file \"[18]\", line 3, characters 9-39\nCalled from file \"[18]\", line 3, characters 9-39\nCalled from file \"[18]\", line 3, characters 9-39\nCalled from file \"[18]\", line 3, characters 9-39\nCalled from file \"[18]\", line 3, characters 9-39\nCalled from file \"[18]\", line 3, characters 9-39\nCalled from file \"[18]\", line 3, characters 9-39\nCalled from file \"[18]\", line 3, characters 9-39\nCalled from file \"[18]\", line 3, characters 9-39\nCalled from file \"[18]\", line 3, characters 9-39\nCalled from file \"[18]\", line 3, characters 9-39\nCalled from file \"[18]\", line 3, characters 9-39\nCalled from file \"[18]\", line 3, characters 9-39\nCalled from file \"[18]\", line 3, characters 9-39\nCalled from file \"[18]\", line 3, characters 9-39\nCalled from file \"[18]\", line 3, characters 9-39\nCalled from file \"[18]\", line 3, characters 9-39\nCalled from file \"[18]\", line 3, characters 9-39\nCalled from file \"[18]\", line 3, characters 9-39\nCalled from file \"[18]\", line 3, characters 9-39\nCalled from file \"[18]\", line 3, characters 9-39\nCalled from file \"[18]\", line 3, characters 9-39\nCalled from file \"[18]\", line 3, characters 9-39\nCalled from file \"[18]\", line 3, characters 9-39\nCalled from file \"[18]\", line 3, characters 9-39\nCalled from file \"[18]\", line 3, characters 9-39\nCalled from file \"[18]\", line 3, characters 9-39\nCalled from file \"[18]\", line 3, characters 9-39\nCalled from file \"[18]\", line 3, characters 9-39\nCalled from file \"[18]\", line 3, characters 9-39\nCalled from file \"[18]\", line 3, characters 9-39\nCalled from file \"[18]\", line 3, characters 9-39\nCalled from file \"[18]\", line 3, characters 9-39\nCalled from file \"[18]\", line 3, characters 9-39\nCalled from file \"[18]\", line 3, characters 9-39\nCalled from file \"[18]\", line 3, characters 9-39\nCalled from file \"[18]\", line 3, characters 9-39\nCalled from file \"[18]\", line 3, characters 9-39\nCalled from file \"[18]\", line 3, characters 9-39\nCalled from file \"[18]\", line 3, characters 9-39\nCalled from file \"[18]\", line 3, characters 9-39\nCalled from file \"[18]\", line 3, characters 9-39\nCalled from file \"[18]\", line 3, characters 9-39\nCalled from file \"[18]\", line 3, characters 9-39\nCalled from file \"[18]\", line 3, characters 9-39\nCalled from file \"[18]\", line 3, characters 9-39\nCalled from file \"[18]\", line 3, characters 9-39\nCalled from file \"[18]\", line 3, characters 9-39\nCalled from file \"[18]\", line 3, characters 9-39\nCalled from file \"[18]\", line 3, characters 9-39\nCalled from file \"[18]\", line 3, characters 9-39\nCalled from file \"[18]\", line 3, characters 9-39\nCalled from file \"[18]\", line 3, characters 9-39\nCalled from file \"[18]\", line 3, characters 9-39\nCalled from file \"[18]\", line 3, characters 9-39\nCalled from file \"[18]\", line 3, characters 9-39\nCalled from file \"[18]\", line 3, characters 9-39\nCalled from file \"[18]\", line 3, characters 9-39\nCalled from file \"[18]\", line 3, characters 9-39\nCalled from file \"[18]\", line 3, characters 9-39\nCalled from file \"[18]\", line 3, characters 9-39\nCalled from file \"[18]\", line 3, characters 9-39\nCalled from file \"[18]\", line 3, characters 9-39\nCalled from file \"[18]\", line 3, characters 9-39\nCalled from file \"[18]\", line 3, characters 9-39\nCalled from file \"[18]\", line 3, characters 9-39\nCalled from file \"[18]\", line 3, characters 9-39\nCalled from file \"[18]\", line 3, characters 9-39\nCalled from file \"[18]\", line 3, characters 9-39\nCalled from file \"[18]\", line 3, characters 9-39\nCalled from file \"[18]\", line 3, characters 9-39\nCalled from file \"[18]\", line 3, characters 9-39\nCalled from file \"[18]\", line 3, characters 9-39\nCalled from file \"[18]\", line 3, characters 9-39\nCalled from file \"[18]\", line 3, characters 9-39\nCalled from file \"[18]\", line 3, characters 9-39\nCalled from file \"[18]\", line 3, characters 9-39\nCalled from file \"[18]\", line 3, characters 9-39\nCalled from file \"[18]\", line 3, characters 9-39\nCalled from file \"[18]\", line 3, characters 9-39\nCalled from file \"[18]\", line 3, characters 9-39\nCalled from file \"[18]\", line 3, characters 9-39\nCalled from file \"[18]\", line 3, characters 9-39\nCalled from file \"[18]\", line 3, characters 9-39\nCalled from file \"[18]\", line 3, characters 9-39\nCalled from file \"[18]\", line 3, characters 9-39\nCalled from file \"[18]\", line 3, characters 9-39\nCalled from file \"[18]\", line 3, characters 9-39\nCalled from file \"[18]\", line 3, characters 9-39\nCalled from file \"[18]\", line 3, characters 9-39\nCalled from file \"[18]\", line 3, characters 9-39\nCalled from file \"[18]\", line 3, characters 9-39\nCalled from file \"[18]\", line 3, characters 9-39\nCalled from file \"[18]\", line 3, characters 9-39\nCalled from file \"[18]\", line 3, characters 9-39\nCalled from file \"[18]\", line 3, characters 9-39\nCalled from file \"[18]\", line 3, characters 9-39\nCalled from file \"[18]\", line 3, characters 9-39\nCalled from file \"[18]\", line 3, characters 9-39\nCalled from file \"[18]\", line 3, characters 9-39\nCalled from file \"[18]\", line 3, characters 9-39\nCalled from file \"[18]\", line 3, characters 9-39\nCalled from file \"[18]\", line 3, characters 9-39\nCalled from file \"[18]\", line 3, characters 9-39\nCalled from file \"[18]\", line 3, characters 9-39\nCalled from file \"[18]\", line 3, characters 9-39\nCalled from file \"[18]\", line 3, characters 9-39\nCalled from file \"[18]\", line 3, characters 9-39\nCalled from file \"[18]\", line 3, characters 9-39\nCalled from file \"[18]\", line 3, characters 9-39\nCalled from file \"[18]\", line 3, characters 9-39\nCalled from file \"[18]\", line 3, characters 9-39\nCalled from file \"[18]\", line 3, characters 9-39\nCalled from file \"[18]\", line 3, characters 9-39\nCalled from file \"[18]\", line 3, characters 9-39\nCalled from file \"[18]\", line 3, characters 9-39\nCalled from file \"[18]\", line 3, characters 9-39\nCalled from file \"[18]\", line 3, characters 9-39\nCalled from file \"[18]\", line 3, characters 9-39\nCalled from file \"[18]\", line 3, characters 9-39\nCalled from file \"[18]\", line 3, characters 9-39\nCalled from file \"[18]\", line 3, characters 9-39\nCalled from file \"[18]\", line 3, characters 9-39\nCalled from file \"[18]\", line 3, characters 9-39\nCalled from file \"[18]\", line 3, characters 9-39\nCalled from file \"[18]\", line 3, characters 9-39\nCalled from file \"[18]\", line 3, characters 9-39\nCalled from file \"[18]\", line 3, characters 9-39\nCalled from file \"[18]\", line 3, characters 9-39\nCalled from file \"[18]\", line 3, characters 9-39\nCalled from file \"[18]\", line 3, characters 9-39\nCalled from file \"[18]\", line 3, characters 9-39\nCalled from file \"[18]\", line 3, characters 9-39\nCalled from file \"[18]\", line 3, characters 9-39\nCalled from file \"[18]\", line 3, characters 9-39\nCalled from file \"[18]\", line 3, characters 9-39\nCalled from file \"[18]\", line 3, characters 9-39\nCalled from file \"[18]\", line 3, characters 9-39\nCalled from file \"[18]\", line 3, characters 9-39\nCalled from file \"[18]\", line 3, characters 9-39\nCalled from file \"[18]\", line 3, characters 9-39\nCalled from file \"[18]\", line 3, characters 9-39\nCalled from file \"[18]\", line 3, characters 9-39\nCalled from file \"[18]\", line 3, characters 9-39\nCalled from file \"[18]\", line 3, characters 9-39\nCalled from file \"[18]\", line 3, characters 9-39\nCalled from file \"[18]\", line 3, characters 9-39\nCalled from file \"[18]\", line 3, characters 9-39\nCalled from file \"[18]\", line 3, characters 9-39\nCalled from file \"[18]\", line 3, characters 9-39\nCalled from file \"[18]\", line 3, characters 9-39\nCalled from file \"[18]\", line 3, characters 9-39\nCalled from file \"[18]\", line 3, characters 9-39\nCalled from file \"[18]\", line 3, characters 9-39\nCalled from file \"[18]\", line 3, characters 9-39\nCalled from file \"[18]\", line 3, characters 9-39\nCalled from file \"[18]\", line 3, characters 9-39\nCalled from file \"[18]\", line 3, characters 9-39\nCalled from file \"[18]\", line 3, characters 9-39\nCalled from file \"[18]\", line 3, characters 9-39\nCalled from file \"[18]\", line 3, characters 9-39\nCalled from file \"[18]\", line 3, characters 9-39\nCalled from file \"[18]\", line 3, characters 9-39\nCalled from file \"[18]\", line 3, characters 9-39\nCalled from file \"[18]\", line 3, characters 9-39\nCalled from file \"[18]\", line 3, characters 9-39\nCalled from file \"[18]\", line 3, characters 9-39\nCalled from file \"[18]\", line 3, characters 9-39\nCalled from file \"[18]\", line 3, characters 9-39\nCalled from file \"[18]\", line 3, characters 9-39\nCalled from file \"[18]\", line 3, characters 9-39\nCalled from file \"[18]\", line 3, characters 9-39\nCalled from file \"[18]\", line 3, characters 9-39\nCalled from file \"[18]\", line 3, characters 9-39\nCalled from file \"[18]\", line 3, characters 9-39\nCalled from file \"[18]\", line 3, characters 9-39\nCalled from file \"[18]\", line 3, characters 9-39\nCalled from file \"[18]\", line 3, characters 9-39\nCalled from file \"[18]\", line 3, characters 9-39\nCalled from file \"[18]\", line 3, characters 9-39\n\u001b[0m"
     ]
    }
   ],
   "source": [
    "let rec hanoi n depart arrive vide =\n",
    "    if n=0 then ()\n",
    "    else hanoi (n-1) depart vide arrive ; print_int depart ; print_int arrive ; hanoi (n-1) vide arrive depart;;\n",
    "    \n",
    "    \n",
    "hanoi 4 1 2 3;;\n",
    "print_newline;;\n",
    "    "
   ]
  }
 ],
 "metadata": {
  "kernelspec": {
   "display_name": "OCaml default",
   "language": "OCaml",
   "name": "ocaml-jupyter"
  },
  "language_info": {
   "codemirror_mode": "text/x-ocaml",
   "file_extension": ".ml",
   "mimetype": "text/x-ocaml",
   "name": "OCaml",
   "nbconverter_exporter": null,
   "pygments_lexer": "OCaml",
   "version": "4.08.1"
  }
 },
 "nbformat": 4,
 "nbformat_minor": 5
}

