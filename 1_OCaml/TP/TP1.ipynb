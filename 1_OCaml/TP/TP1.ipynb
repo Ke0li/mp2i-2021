{
 "cells": [
  {
   "cell_type": "markdown",
   "id": "ab777a7b",
   "metadata": {},
   "source": [
    "# Types\n",
    "\n",
    "Devinez le type des fonctions suivantes et vérifier avec OCaml :\n",
    "```ocaml\n",
    "let f x y = x**y\n",
    "```\n",
    "```ocaml\n",
    "let g x y = x (y + 1)\n",
    "```\n",
    "```ocaml\n",
    "let h x y z = x (3. *. (y z)) + 1\n",
    "```\n",
    "Puis utilisez ces fonctions sur des arguments de votre choix."
   ]
  },
  {
   "cell_type": "markdown",
   "id": "d1f941db",
   "metadata": {},
   "source": [
    "# Tangente hyperbolique\n",
    "\n",
    "Définir en OCaml la fonction $\\tanh : x \\longmapsto \\frac{e^x - e^{-x}}{e^x + e^{-x}}$ en utilisant un seul appel à la fonction `exp : float -> float` de OCaml."
   ]
  },
  {
   "cell_type": "code",
   "execution_count": null,
   "id": "099683bb-fa26-4b25-891a-43ecd9f7e779",
   "metadata": {},
   "outputs": [],
   "source": [
    "let tanh x = (exp(x)-.exp(-.x))/.(exp(x) +. exp(-.x))"
   ]
  },
  {
   "cell_type": "markdown",
   "id": "41933741",
   "metadata": {},
   "source": [
    "# Géométrie\n",
    "\n",
    "Le type `float*float` désigne un couple de flottant, représentant un point `p` dans $\\mathbb{R}^2$. On peut récupérer les coordonnées de `p` avec `let x, y = p` . Par exemple :"
   ]
  },
  {
   "cell_type": "code",
   "execution_count": 1,
   "id": "806f1fc7",
   "metadata": {
    "execution": {
     "iopub.execute_input": "2021-09-06T17:02:34.763878Z",
     "iopub.status.busy": "2021-09-06T17:02:34.763495Z",
     "iopub.status.idle": "2021-09-06T17:02:34.765416Z",
     "shell.execute_reply": "2021-09-06T17:02:34.764999Z"
    }
   },
   "outputs": [
    {
     "data": {
      "text/plain": [
       "- : float = 2.1\n"
      ]
     },
     "execution_count": 1,
     "metadata": {},
     "output_type": "execute_result"
    }
   ],
   "source": [
    "let p = (2.1, 3.7) in (* exemple de point *)\n",
    "let x, y = p in (* récupération des coordonnées *)\n",
    "x;; (* affichage de x *)"
   ]
  },
  {
   "cell_type": "markdown",
   "id": "10984cbc",
   "metadata": {},
   "source": [
    "**Exercice** Écrire une fonction `aire_boule : float -> float` telle que `aire_boule r` renvoie l'aire d'une boule (disque en dimension 3) de rayon `r`, c'est à dire $\\frac{4 \\pi r^3}{3}$. On pourra utiliser `Float.pi`."
   ]
  },
  {
   "cell_type": "code",
   "execution_count": 1,
   "id": "bc82d76f-611c-48e3-84a5-e3ec7f7b7bbe",
   "metadata": {},
   "outputs": [
    {
     "data": {
      "text/plain": [
       "val tanh : float -> float = <fun>\n"
      ]
     },
     "execution_count": 1,
     "metadata": {},
     "output_type": "execute_result"
    }
   ],
   "source": [
    "let aire_boule x r = (4.*.Float.pi*.r**3.)/.3."
   ]
  },
  {
   "cell_type": "markdown",
   "id": "5e8ad51b",
   "metadata": {},
   "source": [
    "**Exercice** Écrire une fonction `distance : float*float -> float*float -> float` telle que `distance p1 p2` renvoie la distance euclidienne entre les points `p1` et `p2`.  \n",
    "Vérifier que la distance entre $(0, 0)$ et $(1, 1)$ est (approximativement) $\\sqrt{2}$."
   ]
  },
  {
   "cell_type": "code",
   "execution_count": 2,
   "id": "23f95576-2add-4940-849c-1d5829382079",
   "metadata": {},
   "outputs": [
    {
     "data": {
      "text/plain": [
       "val aire_boule : 'a -> float -> float = <fun>\n"
      ]
     },
     "execution_count": 2,
     "metadata": {},
     "output_type": "execute_result"
    }
   ],
   "source": [
    "let distance p1 p2 =\n",
    "    let x1, y1= p1 in\n",
    "    let x2, y2= p2 in\n",
    "let d = sqrt( (x2-.x1)**2.+.(y2-.y1)**2.) in \n",
    "d;\n"
   ]
  },
  {
   "cell_type": "markdown",
   "id": "1addbddd",
   "metadata": {},
   "source": [
    "**Exercice** Écrire une fonction `polaire : float*float -> float*float` qui, étant donné les coordonnées polaires $(r, \\theta)$ d'un point, renvoie ses coordonnées cartésiennes $(x, y)$. On rappelle que $x = r\\cos(\\theta)$ et $y = r\\sin(\\theta)$. On pourra utiliser `cos` et `sin` en OCaml."
   ]
  },
  {
   "cell_type": "code",
   "execution_count": 3,
   "id": "8632eb7a-8958-4090-adac-5ab43ef8a9d9",
   "metadata": {},
   "outputs": [
    {
     "data": {
      "text/plain": [
       "val distance : float * float -> float * float -> float = <fun>\n"
      ]
     },
     "execution_count": 3,
     "metadata": {},
     "output_type": "execute_result"
    }
   ],
   "source": [
    "let polaire p1 = \n",
    "    let r,o = p1 in\n",
    "let x = r*.cos(o) in\n",
    "let y = r*.sin(o) in\n",
    "  \n",
    "x,y;"
   ]
  },
  {
   "cell_type": "markdown",
   "id": "785b28a3",
   "metadata": {},
   "source": [
    "**Exercice** Écrire une fonction `milieu : float*float -> float*float -> float*float` telle que `milieu p1 p2` renvoie le milieu du segment d'extrémités `p1` et `p2`."
   ]
  },
  {
   "cell_type": "code",
   "execution_count": 4,
   "id": "05ddb3ca-c80e-4ced-b482-adf49dad7abf",
   "metadata": {},
   "outputs": [
    {
     "data": {
      "text/plain": [
       "val polaire : float * float -> float * float = <fun>\n"
      ]
     },
     "execution_count": 4,
     "metadata": {},
     "output_type": "execute_result"
    }
   ],
   "source": [
    "let milieu p1 p2 =\n",
    "    let x1, y1= p1 in\n",
    "    let x2, y2= p2 in\n",
    "let d = y2-.y1 in\n",
    "let e = x2-.x1 in\n",
    "e,d;"
   ]
  },
  {
   "cell_type": "markdown",
   "id": "87cda927",
   "metadata": {},
   "source": [
    "**Exercice** Écrire une fonction `parallelogramme : float*float -> float*float -> float*float -> float*float -> bool` telle que `parallelogramme p1 p2 p3 p4` renvoie `true` si les points `p1`, `p1`, `p1`, `p1` forment un parallélogramme, c'est à dire si les côtés opposés sont (approximativement) de même longueur.  \n",
    "On fera attention à ne pas comparer 2 flottants avec `=`, mais regarder à la place si la différence est petite (< 0.001 par exemple)."
   ]
  },
  {
   "cell_type": "code",
   "execution_count": 6,
   "id": "44b09fda-6549-41fe-956f-0ca4a43a3086",
   "metadata": {},
   "outputs": [
    {
     "data": {
      "text/plain": [
       "val parallelogramme :\n",
       "  float * float -> float * float -> float * float -> float * float -> bool =\n",
       "  <fun>\n"
      ]
     },
     "execution_count": 6,
     "metadata": {},
     "output_type": "execute_result"
    },
    {
     "data": {
      "text/plain": [
       "- : bool = true\n"
      ]
     },
     "execution_count": 6,
     "metadata": {},
     "output_type": "execute_result"
    }
   ],
   "source": [
    "let parallelogramme p1 p2 p3 p4 =\n",
    "    let d = distance p1 p2 -. distance p3 p4 in \n",
    "    let e = distance p1 p4 -. distance p2 p3 in\n",
    "    d <= 0.001 && e <= 0.001;;\n",
    "    \n",
    "parallelogramme (1.,1.) (1.,2.) (2.,3.) (2.,2.)"
   ]
  },
  {
   "cell_type": "markdown",
   "id": "044d6db1",
   "metadata": {},
   "source": [
    "# Congruence\n",
    "\n",
    "Le but de cet exercice est de calculer $1357^{2013}$ mod $5$ (mais la méthode utilisée s'applique dans un grande nombre d'exercices mathématiques).  \n",
    "On rappelle que les congruences sont compatibles avec la puissance :\n",
    "$$a \\equiv b [n] \\Longrightarrow a^k \\equiv b^k [n]$$\n",
    "\n",
    "1. Soit $k$ un entier positif. Que vaut $2^{4k}$ mod $5$? On pourra calculer des valeurs avec OCaml puis le démontrer mathématiquement.\n",
    "2. Que vaut $1357$ mod $5$? En déduire la valeur de $1357^{2013}$ mod $5$."
   ]
  },
  {
   "cell_type": "code",
   "execution_count": null,
   "id": "220f7493-0d21-4da4-bb70-ff2c78bea55c",
   "metadata": {},
   "outputs": [],
   "source": []
  },
  {
   "cell_type": "markdown",
   "id": "95b313f4",
   "metadata": {
    "tags": []
   },
   "source": [
    "# Nombres aléatoires\n",
    "\n",
    "`Random.int n` permet d'obtenir un entier uniformément au hasard entre 0 et `n - 1` (chacun de ces entiers a la même probabilité $\\frac{1}{n}$ d'être obtenu).  \n",
    "Dans cet exercice, on imagine que l'on possède comme seule source aléatoire un dé à 5 faces (c'est à dire que l'on a seulement le droit d'utiliser `Random.int 5`).\n",
    "\n",
    "1. Calculer `(Random.int 5) + (Random.int 5)` plusieurs fois. Est-ce que le résultat vous semble être un entier uniformément au hasard entre 0 et 8?  \n",
    "2. Quelle est la probabilité d'obtenir `0` avec `(Random.int 5) + (Random.int 5)`? D'obtenir `1`? Quelle est l'entier qui a le plus de chances d'apparaître?\n",
    "3. Comment générer uniformément un entier entre 0 et 24? (C'est à dire passer de 5 possibilités à 25)\n",
    "3. Comment générer uniformément un entier entre 0 et 6? Écrire une fonction pour le faire. On utilisera une méthode par rejection (rejection sampling) : générer dans un espace plus grand et regénérer si la valeur n'est pas dans l'intervalle souhaité.  \n",
    "Pour cela on utilisera une boucle while :\n",
    "```ocaml\n",
    "while ... do\n",
    "    ...\n",
    "done\n",
    "```"
   ]
  },
  {
   "cell_type": "code",
   "execution_count": 10,
   "id": "656a34cd",
   "metadata": {},
   "outputs": [
    {
     "data": {
      "text/plain": [
       "- : int = 3\n"
      ]
     },
     "execution_count": 10,
     "metadata": {},
     "output_type": "execute_result"
    }
   ],
   "source": [
    "(Random.int 5) + (Random.int 5)"
   ]
  },
  {
   "cell_type": "code",
   "execution_count": 13,
   "id": "47e1e6ec-ad7a-4f1c-985a-08b4796484e6",
   "metadata": {},
   "outputs": [
    {
     "ename": "error",
     "evalue": "compile_error",
     "output_type": "error",
     "traceback": [
      "File \"[13]\", line 1, characters 17-18:\n1 | 2. la probabilité est de 1/5*1/5 d'obtenir 0 soit 1/25 car il y a qu'une seule facon d'obtenir 0:0+0\n                     ^\nError: Illegal character (\\169)\n"
     ]
    },
    {
     "name": "stderr",
     "output_type": "stream",
     "text": [
      "File \"[13]\", line 1, characters 6-17:\n",
      "1 | 2. la probabilité est de 1/5*1/5 d'obtenir 0 soit 1/25 car il y a qu'une seule facon d'obtenir 0:0+0\n",
      "          ^^^^^^^^^^^\n",
      "Alert deprecated: ISO-Latin1 characters in identifiers\n"
     ]
    }
   ],
   "source": [
    "2. la probabilité est de 1/5*1/5 d'obtenir 0 soit 1/25 car il y a qu'une seule facon d'obtenir 0 ->0+0\n",
    "et la probabilité d'obtenir 1 est de 2/25 car il y a deux facons d'obtenir 1:(1+0;0+1)\n",
    "l'entier qui a le plus de chances d'apparaitre est le 5 car il y a 6 façons de l'obtenir: \n",
    "0+5;1+4;2+3;3+2;4+1;5+0.\n"
   ]
  },
  {
   "cell_type": "code",
   "execution_count": 33,
   "id": "794467b0-b950-4a2b-aaf0-5623db20c7e3",
   "metadata": {},
   "outputs": [
    {
     "name": "stderr",
     "output_type": "stream",
     "text": [
      "File \"[33]\", line 1, characters 59-61:\n",
      "1 | j'imagine qu'il faut creer une boucle pour faire lancer le dé 5fois d'affiler en faisant la somme des chiffres obtenues a chaque tirage ce qui nous\n",
      "                                                               ^^\n",
      "Alert deprecated: ISO-Latin1 characters in identifiers\n"
     ]
    },
    {
     "ename": "error",
     "evalue": "compile_error",
     "output_type": "error",
     "traceback": [
      "File \"[33]\", line 1, characters 61-62:\n1 | j'imagine qu'il faut creer une boucle pour faire lancer le dé 5fois d'affiler en faisant la somme des chiffres obtenues a chaque tirage ce qui nous\n                                                                 ^\nError: Illegal character (\\169)\n"
     ]
    }
   ],
   "source": [
    "j'imagine qu'il faut creer une boucle pour faire lancer le dé 5fois d'affiler en faisant la somme des chiffres obtenues a chaque tirage ce qui nous\n",
    "donnera un nombre compris entre 0 et 25"
   ]
  },
  {
   "cell_type": "code",
   "execution_count": 38,
   "id": "11ae20f7-911f-4ef5-86cb-04b28709fdbe",
   "metadata": {},
   "outputs": [
    {
     "name": "stderr",
     "output_type": "stream",
     "text": [
      "File \"[38]\", line 2, characters 4-16:\n",
      "2 |     Random.int 5 \n",
      "        ^^^^^^^^^^^^\n",
      "Warning 10: this expression should have type unit.\n",
      "File \"[38]\", line 2, characters 4-16:\n",
      "2 |     Random.int 5 \n",
      "        ^^^^^^^^^^^^\n",
      "Warning 10: this expression should have type unit.\n"
     ]
    },
    {
     "data": {
      "text/plain": [
       "- : unit = ()\n"
      ]
     },
     "execution_count": 38,
     "metadata": {},
     "output_type": "execute_result"
    }
   ],
   "source": [
    "for i=0 to 5 do\n",
    "    Random.int 5 in\n",
    "done\n",
    "    "
   ]
  },
  {
   "cell_type": "code",
   "execution_count": null,
   "id": "7103114a-503d-4713-bd1e-cefdb57366e9",
   "metadata": {},
   "outputs": [],
   "source": []
  }
 ],
 "metadata": {
  "kernelspec": {
   "display_name": "OCaml default",
   "language": "OCaml",
   "name": "ocaml-jupyter"
  },
  "language_info": {
   "codemirror_mode": "text/x-ocaml",
   "file_extension": ".ml",
   "mimetype": "text/x-ocaml",
   "name": "OCaml",
   "nbconverter_exporter": null,
   "pygments_lexer": "OCaml",
   "version": "4.08.1"
  }
 },
 "nbformat": 4,
 "nbformat_minor": 5
}
